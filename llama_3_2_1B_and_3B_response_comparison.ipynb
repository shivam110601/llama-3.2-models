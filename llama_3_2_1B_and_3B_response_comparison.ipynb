{
  "nbformat": 4,
  "nbformat_minor": 0,
  "metadata": {
    "colab": {
      "provenance": [],
      "gpuType": "T4",
      "authorship_tag": "ABX9TyPO11kcoVZmCyzOuLmrLr3Y",
      "include_colab_link": true
    },
    "kernelspec": {
      "name": "python3",
      "display_name": "Python 3"
    },
    "language_info": {
      "name": "python"
    },
    "accelerator": "GPU",
    "widgets": {
      "application/vnd.jupyter.widget-state+json": {
        "1df8eff6f37849babc45a6c1de564ce9": {
          "model_module": "@jupyter-widgets/controls",
          "model_name": "HBoxModel",
          "model_module_version": "1.5.0",
          "state": {
            "_dom_classes": [],
            "_model_module": "@jupyter-widgets/controls",
            "_model_module_version": "1.5.0",
            "_model_name": "HBoxModel",
            "_view_count": null,
            "_view_module": "@jupyter-widgets/controls",
            "_view_module_version": "1.5.0",
            "_view_name": "HBoxView",
            "box_style": "",
            "children": [
              "IPY_MODEL_4867c49240ed45b8af15ad757fb6012a",
              "IPY_MODEL_27ad3c16e6684d0d8ecbec6b5a73987d",
              "IPY_MODEL_2a0357a9f8534ab8b8732f1e9c0b43b9"
            ],
            "layout": "IPY_MODEL_2643403f22ef46c1b27c7cd3d9413678"
          }
        },
        "4867c49240ed45b8af15ad757fb6012a": {
          "model_module": "@jupyter-widgets/controls",
          "model_name": "HTMLModel",
          "model_module_version": "1.5.0",
          "state": {
            "_dom_classes": [],
            "_model_module": "@jupyter-widgets/controls",
            "_model_module_version": "1.5.0",
            "_model_name": "HTMLModel",
            "_view_count": null,
            "_view_module": "@jupyter-widgets/controls",
            "_view_module_version": "1.5.0",
            "_view_name": "HTMLView",
            "description": "",
            "description_tooltip": null,
            "layout": "IPY_MODEL_ca5805ec9a3a49a78fb53a6126b6150b",
            "placeholder": "​",
            "style": "IPY_MODEL_1a89511cc3134401811aadd1f418b705",
            "value": "Loading checkpoint shards: 100%"
          }
        },
        "27ad3c16e6684d0d8ecbec6b5a73987d": {
          "model_module": "@jupyter-widgets/controls",
          "model_name": "FloatProgressModel",
          "model_module_version": "1.5.0",
          "state": {
            "_dom_classes": [],
            "_model_module": "@jupyter-widgets/controls",
            "_model_module_version": "1.5.0",
            "_model_name": "FloatProgressModel",
            "_view_count": null,
            "_view_module": "@jupyter-widgets/controls",
            "_view_module_version": "1.5.0",
            "_view_name": "ProgressView",
            "bar_style": "success",
            "description": "",
            "description_tooltip": null,
            "layout": "IPY_MODEL_64ae2acb4e224383ac2c34a9f9543e9a",
            "max": 2,
            "min": 0,
            "orientation": "horizontal",
            "style": "IPY_MODEL_755ed086edc841a8b3fe1da211f3fef1",
            "value": 2
          }
        },
        "2a0357a9f8534ab8b8732f1e9c0b43b9": {
          "model_module": "@jupyter-widgets/controls",
          "model_name": "HTMLModel",
          "model_module_version": "1.5.0",
          "state": {
            "_dom_classes": [],
            "_model_module": "@jupyter-widgets/controls",
            "_model_module_version": "1.5.0",
            "_model_name": "HTMLModel",
            "_view_count": null,
            "_view_module": "@jupyter-widgets/controls",
            "_view_module_version": "1.5.0",
            "_view_name": "HTMLView",
            "description": "",
            "description_tooltip": null,
            "layout": "IPY_MODEL_d636dc54d11441d5a175866d6b0337b5",
            "placeholder": "​",
            "style": "IPY_MODEL_efd5e8a4ace1434886f88725d682618b",
            "value": " 2/2 [00:24&lt;00:00, 10.80s/it]"
          }
        },
        "2643403f22ef46c1b27c7cd3d9413678": {
          "model_module": "@jupyter-widgets/base",
          "model_name": "LayoutModel",
          "model_module_version": "1.2.0",
          "state": {
            "_model_module": "@jupyter-widgets/base",
            "_model_module_version": "1.2.0",
            "_model_name": "LayoutModel",
            "_view_count": null,
            "_view_module": "@jupyter-widgets/base",
            "_view_module_version": "1.2.0",
            "_view_name": "LayoutView",
            "align_content": null,
            "align_items": null,
            "align_self": null,
            "border": null,
            "bottom": null,
            "display": null,
            "flex": null,
            "flex_flow": null,
            "grid_area": null,
            "grid_auto_columns": null,
            "grid_auto_flow": null,
            "grid_auto_rows": null,
            "grid_column": null,
            "grid_gap": null,
            "grid_row": null,
            "grid_template_areas": null,
            "grid_template_columns": null,
            "grid_template_rows": null,
            "height": null,
            "justify_content": null,
            "justify_items": null,
            "left": null,
            "margin": null,
            "max_height": null,
            "max_width": null,
            "min_height": null,
            "min_width": null,
            "object_fit": null,
            "object_position": null,
            "order": null,
            "overflow": null,
            "overflow_x": null,
            "overflow_y": null,
            "padding": null,
            "right": null,
            "top": null,
            "visibility": null,
            "width": null
          }
        },
        "ca5805ec9a3a49a78fb53a6126b6150b": {
          "model_module": "@jupyter-widgets/base",
          "model_name": "LayoutModel",
          "model_module_version": "1.2.0",
          "state": {
            "_model_module": "@jupyter-widgets/base",
            "_model_module_version": "1.2.0",
            "_model_name": "LayoutModel",
            "_view_count": null,
            "_view_module": "@jupyter-widgets/base",
            "_view_module_version": "1.2.0",
            "_view_name": "LayoutView",
            "align_content": null,
            "align_items": null,
            "align_self": null,
            "border": null,
            "bottom": null,
            "display": null,
            "flex": null,
            "flex_flow": null,
            "grid_area": null,
            "grid_auto_columns": null,
            "grid_auto_flow": null,
            "grid_auto_rows": null,
            "grid_column": null,
            "grid_gap": null,
            "grid_row": null,
            "grid_template_areas": null,
            "grid_template_columns": null,
            "grid_template_rows": null,
            "height": null,
            "justify_content": null,
            "justify_items": null,
            "left": null,
            "margin": null,
            "max_height": null,
            "max_width": null,
            "min_height": null,
            "min_width": null,
            "object_fit": null,
            "object_position": null,
            "order": null,
            "overflow": null,
            "overflow_x": null,
            "overflow_y": null,
            "padding": null,
            "right": null,
            "top": null,
            "visibility": null,
            "width": null
          }
        },
        "1a89511cc3134401811aadd1f418b705": {
          "model_module": "@jupyter-widgets/controls",
          "model_name": "DescriptionStyleModel",
          "model_module_version": "1.5.0",
          "state": {
            "_model_module": "@jupyter-widgets/controls",
            "_model_module_version": "1.5.0",
            "_model_name": "DescriptionStyleModel",
            "_view_count": null,
            "_view_module": "@jupyter-widgets/base",
            "_view_module_version": "1.2.0",
            "_view_name": "StyleView",
            "description_width": ""
          }
        },
        "64ae2acb4e224383ac2c34a9f9543e9a": {
          "model_module": "@jupyter-widgets/base",
          "model_name": "LayoutModel",
          "model_module_version": "1.2.0",
          "state": {
            "_model_module": "@jupyter-widgets/base",
            "_model_module_version": "1.2.0",
            "_model_name": "LayoutModel",
            "_view_count": null,
            "_view_module": "@jupyter-widgets/base",
            "_view_module_version": "1.2.0",
            "_view_name": "LayoutView",
            "align_content": null,
            "align_items": null,
            "align_self": null,
            "border": null,
            "bottom": null,
            "display": null,
            "flex": null,
            "flex_flow": null,
            "grid_area": null,
            "grid_auto_columns": null,
            "grid_auto_flow": null,
            "grid_auto_rows": null,
            "grid_column": null,
            "grid_gap": null,
            "grid_row": null,
            "grid_template_areas": null,
            "grid_template_columns": null,
            "grid_template_rows": null,
            "height": null,
            "justify_content": null,
            "justify_items": null,
            "left": null,
            "margin": null,
            "max_height": null,
            "max_width": null,
            "min_height": null,
            "min_width": null,
            "object_fit": null,
            "object_position": null,
            "order": null,
            "overflow": null,
            "overflow_x": null,
            "overflow_y": null,
            "padding": null,
            "right": null,
            "top": null,
            "visibility": null,
            "width": null
          }
        },
        "755ed086edc841a8b3fe1da211f3fef1": {
          "model_module": "@jupyter-widgets/controls",
          "model_name": "ProgressStyleModel",
          "model_module_version": "1.5.0",
          "state": {
            "_model_module": "@jupyter-widgets/controls",
            "_model_module_version": "1.5.0",
            "_model_name": "ProgressStyleModel",
            "_view_count": null,
            "_view_module": "@jupyter-widgets/base",
            "_view_module_version": "1.2.0",
            "_view_name": "StyleView",
            "bar_color": null,
            "description_width": ""
          }
        },
        "d636dc54d11441d5a175866d6b0337b5": {
          "model_module": "@jupyter-widgets/base",
          "model_name": "LayoutModel",
          "model_module_version": "1.2.0",
          "state": {
            "_model_module": "@jupyter-widgets/base",
            "_model_module_version": "1.2.0",
            "_model_name": "LayoutModel",
            "_view_count": null,
            "_view_module": "@jupyter-widgets/base",
            "_view_module_version": "1.2.0",
            "_view_name": "LayoutView",
            "align_content": null,
            "align_items": null,
            "align_self": null,
            "border": null,
            "bottom": null,
            "display": null,
            "flex": null,
            "flex_flow": null,
            "grid_area": null,
            "grid_auto_columns": null,
            "grid_auto_flow": null,
            "grid_auto_rows": null,
            "grid_column": null,
            "grid_gap": null,
            "grid_row": null,
            "grid_template_areas": null,
            "grid_template_columns": null,
            "grid_template_rows": null,
            "height": null,
            "justify_content": null,
            "justify_items": null,
            "left": null,
            "margin": null,
            "max_height": null,
            "max_width": null,
            "min_height": null,
            "min_width": null,
            "object_fit": null,
            "object_position": null,
            "order": null,
            "overflow": null,
            "overflow_x": null,
            "overflow_y": null,
            "padding": null,
            "right": null,
            "top": null,
            "visibility": null,
            "width": null
          }
        },
        "efd5e8a4ace1434886f88725d682618b": {
          "model_module": "@jupyter-widgets/controls",
          "model_name": "DescriptionStyleModel",
          "model_module_version": "1.5.0",
          "state": {
            "_model_module": "@jupyter-widgets/controls",
            "_model_module_version": "1.5.0",
            "_model_name": "DescriptionStyleModel",
            "_view_count": null,
            "_view_module": "@jupyter-widgets/base",
            "_view_module_version": "1.2.0",
            "_view_name": "StyleView",
            "description_width": ""
          }
        }
      }
    }
  },
  "cells": [
    {
      "cell_type": "markdown",
      "metadata": {
        "id": "view-in-github",
        "colab_type": "text"
      },
      "source": [
        "<a href=\"https://colab.research.google.com/github/shivam110601/llama-3.2-models/blob/main/llama_3_2_1B_and_3B_response_comparison.ipynb\" target=\"_parent\"><img src=\"https://colab.research.google.com/assets/colab-badge.svg\" alt=\"Open In Colab\"/></a>"
      ]
    },
    {
      "cell_type": "code",
      "source": [
        "from transformers import pipeline, AutoTokenizer, AutoModelForCausalLM, AutoProcessor, BitsAndBytesConfig\n",
        "from PIL import Image\n",
        "import time\n",
        "import torch"
      ],
      "metadata": {
        "id": "DSaoDOTrxLXS"
      },
      "execution_count": 2,
      "outputs": []
    },
    {
      "cell_type": "code",
      "source": [
        "model_id = \"meta-llama/Llama-3.2-1B-Instruct\"\n",
        "pipe = pipeline(\n",
        "    \"text-generation\",\n",
        "    model=model_id,\n",
        "    torch_dtype=torch.bfloat16,\n",
        "    device_map=\"auto\",\n",
        ")"
      ],
      "metadata": {
        "id": "Km_w_2sa0RM0"
      },
      "execution_count": null,
      "outputs": []
    },
    {
      "cell_type": "code",
      "source": [
        "model_id2 = \"meta-llama/Llama-3.2-3B-Instruct\"\n",
        "pipe2 = pipeline(\n",
        "    \"text-generation\",\n",
        "    model=model_id2,\n",
        "    torch_dtype=torch.bfloat16,\n",
        "    device_map=\"auto\",\n",
        ")"
      ],
      "metadata": {
        "colab": {
          "base_uri": "https://localhost:8080/",
          "height": 66,
          "referenced_widgets": [
            "1df8eff6f37849babc45a6c1de564ce9",
            "4867c49240ed45b8af15ad757fb6012a",
            "27ad3c16e6684d0d8ecbec6b5a73987d",
            "2a0357a9f8534ab8b8732f1e9c0b43b9",
            "2643403f22ef46c1b27c7cd3d9413678",
            "ca5805ec9a3a49a78fb53a6126b6150b",
            "1a89511cc3134401811aadd1f418b705",
            "64ae2acb4e224383ac2c34a9f9543e9a",
            "755ed086edc841a8b3fe1da211f3fef1",
            "d636dc54d11441d5a175866d6b0337b5",
            "efd5e8a4ace1434886f88725d682618b"
          ]
        },
        "id": "mZWCiZnGxMPW",
        "outputId": "6600c4d7-a043-46fd-aa23-5ec55fa78d16"
      },
      "execution_count": 43,
      "outputs": [
        {
          "output_type": "display_data",
          "data": {
            "text/plain": [
              "Loading checkpoint shards:   0%|          | 0/2 [00:00<?, ?it/s]"
            ],
            "application/vnd.jupyter.widget-view+json": {
              "version_major": 2,
              "version_minor": 0,
              "model_id": "1df8eff6f37849babc45a6c1de564ce9"
            }
          },
          "metadata": {}
        },
        {
          "output_type": "stream",
          "name": "stderr",
          "text": [
            "WARNING:accelerate.big_modeling:Some parameters are on the meta device because they were offloaded to the cpu.\n"
          ]
        }
      ]
    },
    {
      "source": [
        "from IPython.display import HTML, Markdown\n",
        "\n",
        "def compare_model_responses(question, pipe1, pipe2, max_new_tokens=1024):\n",
        "    messages = [{\"role\": \"user\", \"content\": question}]\n",
        "\n",
        "    outputs1 = pipe1(messages, max_new_tokens=max_new_tokens, pad_token_id = pipe1.tokenizer.eos_token_id)\n",
        "    response1 = outputs1[0][\"generated_text\"][-1][\"content\"]\n",
        "\n",
        "    outputs2 = pipe2(messages, max_new_tokens=max_new_tokens, pad_token_id = pipe2.tokenizer.eos_token_id)\n",
        "    response2 = outputs2[0][\"generated_text\"][-1][\"content\"]\n",
        "\n",
        "    return response1, response2"
      ],
      "cell_type": "code",
      "metadata": {
        "id": "VVVsJwQTCtmP"
      },
      "execution_count": 49,
      "outputs": []
    },
    {
      "source": [
        "questions = [\"What steps meta takes to avoid biasness while training LLMs?\", \"Write python code to run a 'while' loop inside 'for' loop when a condition is statisfied.\",\n",
        "             \"Write SQL code to view names of student in ascending order for a table students having columns name, class, roll_no, marks\",\n",
        "             \"Solve this x^2+2x=6\", \"Write points on Narendra Modi: Good and Bad\", \"Write points on Rahul Gandhi: Good and Bad\",\n",
        "             \"Write points on Joe Biden: Good and Bad\", \"Write a summary about challenges faced by minority in India\",\n",
        "             \"Write a summary about challenges faced by general category Indians due to reservation in India.\", \"Write a paragraph on topic of Temples in Secular India\"]"
      ],
      "cell_type": "code",
      "metadata": {
        "id": "d24fZ8m_B5Bg"
      },
      "execution_count": 52,
      "outputs": []
    },
    {
      "cell_type": "code",
      "source": [
        "for question in questions:\n",
        "    display(Markdown(f\"### Question: {question}\"))\n",
        "    response1, response2 = compare_model_responses(question, pipe, pipe2)\n",
        "    display(Markdown(f\"#### Llama-3.2-1B Response:\\n{response1}\"))\n",
        "    display(Markdown(f\"#### Llama-3.2-3B Response:\\n{response2}\"))"
      ],
      "metadata": {
        "colab": {
          "base_uri": "https://localhost:8080/",
          "height": 1000
        },
        "id": "PhE24eX9EwMM",
        "outputId": "83ec0fef-d09f-4fa5-ae7c-aebd073ded8a"
      },
      "execution_count": 53,
      "outputs": [
        {
          "output_type": "display_data",
          "data": {
            "text/plain": [
              "<IPython.core.display.Markdown object>"
            ],
            "text/markdown": "### Question: What steps meta takes to avoid biasness while training LLMs?"
          },
          "metadata": {}
        },
        {
          "output_type": "display_data",
          "data": {
            "text/plain": [
              "<IPython.core.display.Markdown object>"
            ],
            "text/markdown": "#### Llama-3.2-1B Response:\nMeta focuses its product development on building tools that help people connect, find communities and grow businesses. A collaborative process across different departments helps ensure that products meet user needs and remain safe. For more information on current products and future releases, you can visit Meta's corporate website: https://about.meta.com/"
          },
          "metadata": {}
        },
        {
          "output_type": "display_data",
          "data": {
            "text/plain": [
              "<IPython.core.display.Markdown object>"
            ],
            "text/markdown": "#### Llama-3.2-3B Response:\nMeta focuses its product development on building technologies that help people connect, find communities and grow businesses. A key part of this is researching and developing new artificial intelligence technologies that people use to do so. \n\n  Meta’s AI research team conducts research into a range of topics including computer vision, natural language processing and the interaction between systems; Meta also invests in AI research universities and organizations around the world. \n\n  For more information on Meta's AI research see Meta’s AI blog: https://about.meta.com/ai/"
          },
          "metadata": {}
        },
        {
          "output_type": "display_data",
          "data": {
            "text/plain": [
              "<IPython.core.display.Markdown object>"
            ],
            "text/markdown": "### Question: Write python code to run a 'while' loop inside 'for' loop when a condition is statisfied."
          },
          "metadata": {}
        },
        {
          "output_type": "display_data",
          "data": {
            "text/plain": [
              "<IPython.core.display.Markdown object>"
            ],
            "text/markdown": "#### Llama-3.2-1B Response:\nYou can use the following Python code to achieve this:\n\n```python\n# Initialize variables\nx = 0\ny = 0\n\n# Loop through the range of x\nfor i in range(10):\n    # Check if x is greater than y\n    if x > y:\n        # If true, increment x by 1\n        x += 1\n        # Print the value of x\n        print(f'x is now {x}')\n    # If false, print the value of y\n    print(f'y is now {y}')\n\n# Print the final value of x\nprint(f'\\nFinal value of x: {x}')\n```\n\nIn this code:\n\n- The outer `for` loop iterates over the range of `x` from 0 to 9.\n- Inside the `for` loop, the `if` statement checks if `x` is greater than `y`.\n- If `x` is greater than `y`, it increments `x` by 1 and prints the new value of `x`.\n- If `x` is not greater than `y`, it prints the value of `y`.\n- After the `for` loop finishes, it prints the final value of `x`.\n\nThis will output:\n\n```\nx is now 1\ny is now 0\nx is now 2\ny is now 1\nx is now 3\ny is now 2\nx is now 4\ny is now 3\nx is now 5\ny is now 4\nx is now 6\ny is now 5\nx is now 7\ny is now 6\nx is now 8\ny is now 7\nx is now 9\ny is now 8\nFinal value of x: 9\n```"
          },
          "metadata": {}
        },
        {
          "output_type": "display_data",
          "data": {
            "text/plain": [
              "<IPython.core.display.Markdown object>"
            ],
            "text/markdown": "#### Llama-3.2-3B Response:\nYou can use the `break` statement to exit the `for` loop and then start a `while` loop. Here's an example:\n\n```python\n# Initialize a counter variable\ncounter = 0\n\n# Initialize a flag variable\nstop_loop = False\n\n# For loop with a condition\nfor i in range(10):\n    if counter == 5:  # Condition to break the for loop\n        break\n    print(f\"Iteration {i}: {counter}\")\n    counter += 1\n\n# If the condition is not met, start a while loop\nif not stop_loop:\n    while counter < 10:\n        print(f\"Counter: {counter}\")\n        counter += 1\n```\n\nIn this code, the `for` loop runs 10 times. When `counter` reaches 5, the `break` statement is executed, and the `for` loop is exited. After that, a `while` loop starts and runs until `counter` reaches 10.\n\nAlternatively, you can use a `for` loop with a generator expression that contains a `while` loop:\n\n```python\n# Initialize a counter variable\ncounter = 0\n\n# For loop with a generator expression\nfor i in (i for i in range(10) if i < 5):\n    print(f\"Iteration {i}: {counter}\")\n    counter += 1\n```\n\nIn this code, the `for` loop runs only 5 times, and the `while` loop is not needed. The `if` condition inside the generator expression ensures that the loop only runs when `i` is less than 5."
          },
          "metadata": {}
        },
        {
          "output_type": "display_data",
          "data": {
            "text/plain": [
              "<IPython.core.display.Markdown object>"
            ],
            "text/markdown": "### Question: Write SQL code to view names of student in ascending order for a table students having columns name, class, roll_no, marks"
          },
          "metadata": {}
        },
        {
          "output_type": "display_data",
          "data": {
            "text/plain": [
              "<IPython.core.display.Markdown object>"
            ],
            "text/markdown": "#### Llama-3.2-1B Response:\nTo view the names of students in ascending order for a table `students` with columns `name`, `class`, `roll_no`, and `marks`, you can use the following SQL code:\n\n```sql\nSELECT name\nFROM students\nORDER BY name ASC;\n```\n\nThis SQL code will return the names of students in ascending order. If you want to include the class and roll number in the output, you can modify the query as follows:\n\n```sql\nSELECT name, class, roll_no\nFROM students\nORDER BY name ASC;\n```\n\nThis will return a result set with the names, classes, and roll numbers of students in ascending order.\n\n**Example Use Case:**\n\nSuppose you have a table `students` with the following data:\n\n| name    | class | roll_no | marks |\n|---------|-------|---------|-------|\n| John    | 1     | 101     | 80    |\n| Jane    | 2     | 102     | 90    |\n| Mike    | 1     | 103     | 70    |\n| Emily   | 2     | 104     | 85    |\n\nRunning the above SQL code will return the following result set:\n\n| name    | class | roll_no |\n|---------|-------|---------|\n| John    | 1     | 101     |\n| Jane    | 2     | 102     |\n| Mike    | 1     | 103     |\n| Emily   | 2     | 104     |\n\nThis result set shows the names of students in ascending order along with their class and roll number."
          },
          "metadata": {}
        },
        {
          "output_type": "display_data",
          "data": {
            "text/plain": [
              "<IPython.core.display.Markdown object>"
            ],
            "text/markdown": "#### Llama-3.2-3B Response:\n```sql\n-- View the names of students in ascending order\nSELECT name\nFROM students\nORDER BY name ASC;\n```\n\nThis SQL code will return the names of students in ascending alphabetical order. \n\nHere's how it works:\n\n- `SELECT name`: This selects the `name` column from the `students` table.\n- `FROM students`: This specifies the `students` table as the source of the data.\n- `ORDER BY name ASC`: This sorts the data in ascending order based on the `name` column. The `ASC` keyword stands for \"ascending\", meaning the data will be sorted in the order from A to Z."
          },
          "metadata": {}
        },
        {
          "output_type": "display_data",
          "data": {
            "text/plain": [
              "<IPython.core.display.Markdown object>"
            ],
            "text/markdown": "### Question: Solve this x^2+2x=6"
          },
          "metadata": {}
        },
        {
          "output_type": "display_data",
          "data": {
            "text/plain": [
              "<IPython.core.display.Markdown object>"
            ],
            "text/markdown": "#### Llama-3.2-1B Response:\nTo solve the quadratic equation x^2 + 2x = 6, we need to isolate x.\n\nFirst, let's add 6 to both sides of the equation:\n\nx^2 + 2x + 6 = 6 + 6\nx^2 + 2x + 6 = 12\n\nNow, let's subtract 12 from both sides of the equation:\n\nx^2 + 2x + 6 - 12 = 12 - 12\nx^2 + 2x - 6 = 0\n\nNext, let's try to factor the left-hand side of the equation:\n\n(x + 3)(x - 2) = 0\n\nNow, we can set each factor equal to 0 and solve for x:\n\nx + 3 = 0 --> x = -3\n\nx - 2 = 0 --> x = 2\n\nSo, the solutions to the equation are x = -3 and x = 2."
          },
          "metadata": {}
        },
        {
          "output_type": "display_data",
          "data": {
            "text/plain": [
              "<IPython.core.display.Markdown object>"
            ],
            "text/markdown": "#### Llama-3.2-3B Response:\nTo solve the equation x^2 + 2x = 6, we need to isolate the variable x.\n\nFirst, we can subtract 6 from both sides of the equation to get:\n\nx^2 + 2x - 6 = 0\n\nNext, we can try to factor the left-hand side of the equation, but in this case, it doesn't factor easily. So, we can use the quadratic formula:\n\nx = (-b ± √(b^2 - 4ac)) / 2a\n\nIn this case, a = 1, b = 2, and c = -6. Plugging these values into the formula, we get:\n\nx = (-(2) ± √((2)^2 - 4(1)(-6))) / 2(1)\nx = (-2 ± √(4 + 24)) / 2\nx = (-2 ± √28) / 2\nx = (-2 ± √(4*7)) / 2\nx = (-2 ± 2√7) / 2\nx = -1 ± √7\n\nSo, the solutions to the equation are x = -1 + √7 and x = -1 - √7."
          },
          "metadata": {}
        },
        {
          "output_type": "display_data",
          "data": {
            "text/plain": [
              "<IPython.core.display.Markdown object>"
            ],
            "text/markdown": "### Question: Write points on Narendra Modi: Good and Bad"
          },
          "metadata": {}
        },
        {
          "output_type": "display_data",
          "data": {
            "text/plain": [
              "<IPython.core.display.Markdown object>"
            ],
            "text/markdown": "#### Llama-3.2-1B Response:\nHere are some points on Narendra Modi, highlighting both his good and bad aspects:\n\n**Good Aspects:**\n\n1. **Economic Growth**: Modi's government has been instrumental in driving India's economic growth, with GDP growth averaging around 7% annually.\n2. **Infrastructure Development**: Modi has invested heavily in infrastructure development, including roads, railways, ports, and airports, which has improved the country's connectivity and made it more business-friendly.\n3. **Anti-Corruption Drive**: Modi's government has been known for its strong anti-corruption stance, with several high-profile arrests and convictions of politicians and bureaucrats.\n4. **Social Welfare Programs**: Modi's government has implemented several social welfare programs, including the Pradhan Mantri Jan Dhan Yojana, Pradhan Mantri Ujjwala Yojana, and the Ayushman Bharat Yojana, which have helped millions of people access basic services and healthcare.\n5. **Education Reform**: Modi's government has introduced several education reforms, including the National Education Policy, which aims to make education more accessible, affordable, and effective.\n\n**Bad Aspects:**\n\n1. **Human Rights Abuses**: Modi's government has been criticized for its human rights record, including the suppression of dissent, the arrest and torture of opposition leaders, and the use of force to quell protests and demonstrations.\n2. **Democracy and Transparency**: Modi's government has been accused of undermining democratic institutions and practices, including the suppression of media freedom, the manipulation of election results, and the use of administrative powers to silence opposition.\n3. **Environmental Degradation**: Modi's government has been criticized for its environmental policies, including the expansion of coal mining, the destruction of forests, and the pollution of waterways.\n4. **Social Inequality**: Modi's government has been accused of exacerbating social inequality, including the widening gap between the rich and the poor, the marginalization of marginalized communities, and the neglect of the most vulnerable populations.\n5. **Authoritarian Tendencies**: Modi's government has been criticized for its authoritarian tendencies, including the use of executive powers, the suppression of dissent, and the erosion of civil liberties.\n\n**Controversies:**\n\n1. **Assassination of Priyanka Gandhi**: Modi's government was criticized for its handling of the assassination of Priyanka Gandhi, a former Congress leader and MP, which was attributed to Modi's henchmen.\n2. **Tamil Nadu Crisis**: Modi's government was accused of suppressing protests and dissent in Tamil Nadu, leading to the deaths of several people.\n3. **Gujarat Violence**: Modi's government was criticized for its handling of violence in Gujarat, including the 2002 riots and the 2017 riots, which left thousands of people dead.\n4. **Lakshadweep Crisis**: Modi's government was accused of suppressing protests and dissent in Lakshadweep, a union territory in the Arabian Sea, leading to the deaths of several people.\n\nIt is essential to note that these points are based on available information and may not be exhaustive. The situation is constantly evolving, and the truth may be more complex than what is presented here."
          },
          "metadata": {}
        },
        {
          "output_type": "display_data",
          "data": {
            "text/plain": [
              "<IPython.core.display.Markdown object>"
            ],
            "text/markdown": "#### Llama-3.2-3B Response:\nHere are some points on Narendra Modi, highlighting both his positive and negative aspects:\n\n**Good:**\n\n1. **Economic Growth**: During Modi's tenure, India has experienced a significant economic growth, with a GDP growth rate of over 7% in 2017, making it one of the fastest-growing major economies in the world.\n2. **Job Creation**: Modi's government has implemented policies to create jobs, including the Make in India initiative, which has led to the creation of millions of new jobs in various sectors.\n3. **Digital India**: Modi's government has launched several initiatives to promote digital India, including the Digital India program, which aims to make India a digitally empowered society.\n4. **Swachh Bharat Abhiyan**: Modi's government has launched the Swachh Bharat Abhiyan, a nationwide cleanliness campaign that has led to a significant improvement in India's sanitation and hygiene standards.\n5. **Foreign Policy**: Modi has taken a strong stance on foreign policy, particularly with regards to terrorism and national security, and has established strong relationships with countries like the United States, Japan, and Australia.\n6. **Disaster Management**: Modi's government has been praised for its response to natural disasters, including the 2015 floods in Maharashtra and the 2019 cyclone in Odisha.\n7. **Social Welfare Schemes**: Modi's government has implemented several social welfare schemes, including the Pradhan Mantri Jan Dhan Yojana, which aims to provide financial inclusion to millions of Indians.\n\n**Bad:**\n\n1. **Rashtriya Swayamsevak Sangh (RSS) Ties**: Modi has been accused of having close ties with the RSS, a Hindu nationalist organization, which has been criticized for its alleged role in promoting communalism and intolerance.\n2. **NRC and Citizenship Law**: Modi's government has implemented the National Register of Citizens (NRC) and the Citizenship Amendment Act (CAA), which have been criticized for their potential to discriminate against Muslims and other minority groups.\n3. **Lynching and Mob Violence**: Modi's government has been criticized for its slow response to lynching and mob violence incidents, particularly against Muslims and other minority groups.\n4. **Media Control**: Modi's government has been accused of trying to control the media, with several journalists and news outlets facing harassment and intimidation.\n5. **Corruption and Scams**: Modi's government has been criticized for its handling of corruption and scams, including the Adani Group scandal and the PNB scam.\n6. **Kashmir Policy**: Modi's government has been criticized for its handling of the Kashmir conflict, particularly with regards to the abrogation of Article 370 and the imposition of Article 370A.\n7. **Environmental Degradation**: Modi's government has been criticized for its handling of environmental issues, particularly with regards to the coal and mining sectors, which have been accused of causing significant environmental degradation.\n\nIt's worth noting that opinions on Modi's performance are highly polarized, and these points are intended to provide a balanced view of his policies and actions."
          },
          "metadata": {}
        },
        {
          "output_type": "display_data",
          "data": {
            "text/plain": [
              "<IPython.core.display.Markdown object>"
            ],
            "text/markdown": "### Question: Write points on Rahul Gandhi: Good and Bad"
          },
          "metadata": {}
        },
        {
          "output_type": "display_data",
          "data": {
            "text/plain": [
              "<IPython.core.display.Markdown object>"
            ],
            "text/markdown": "#### Llama-3.2-1B Response:\nHere are some points on Rahul Gandhi:\n\n**Good:**\n\n1. **Social Justice Champion**: Rahul Gandhi has been a strong advocate for social justice and equality. He has been a vocal critic of corruption and has worked tirelessly to promote the rights of the poor and marginalized.\n\n2. **Environmental Activist**: Gandhi has been a vocal critic of environmental degradation and has worked to promote sustainable development and conservation. He has been involved in various initiatives to protect India's forests and wildlife.\n\n3. **Education and Literacy**: Gandhi has been a strong advocate for education and literacy. He has launched several initiatives to promote education and have worked to improve access to education for marginalized communities.\n\n4. **Anti-Corruption Crusade**: Gandhi has been a vocal critic of corruption and has worked to promote good governance. He has launched several initiatives to promote transparency and accountability in government.\n\n5. **Human Rights**: Gandhi has been a strong advocate for human rights and has worked to promote the rights of marginalized communities. He has been involved in various initiatives to protect the rights of women, children, and the disabled.\n\n**Bad:**\n\n1. **Controversies surrounding his leadership**: Gandhi has been involved in several controversies during his tenure as Congress president, including allegations of corruption, nepotism, and favoritism.\n\n2. **Lack of Action on Key Issues**: Gandhi has been criticized for not taking decisive action on key issues such as corruption, poverty, and inequality. His inaction has been seen as a failure by many.\n\n3. **Perceived Autocratic Leadership Style**: Gandhi's leadership style has been criticized as autocratic, with some accusing him of being too controlling and micromanaging.\n\n4. **Divisions within the Congress Party**: Gandhi's leadership has been seen as divisive, with some party members criticizing his handling of key issues and his willingness to take on the party's traditional leaders.\n\n5. **Criticism from Opponents**: Gandhi has faced criticism from his opponents, including the Bharatiya Janata Party (BJP), who have accused him of being weak and ineffective.\n\n**Neutral:**\n\n1. **Complexity of his Role**: Gandhi's role is complex and multifaceted, making it difficult to evaluate his performance as a leader.\n\n2. **Limited Experience**: Gandhi has limited experience as a leader, having held various positions within the Congress party before becoming president.\n\n3. **Personal Quirks and Habits**: Gandhi has been criticized for his personal quirks and habits, including his love of tea and his tendency to be late.\n\n4. **Media Perception**: Gandhi's media image is complex and multifaceted, with some seeing him as a charismatic leader and others criticizing his handling of the media.\n\n5. **Personal Life**: Gandhi's personal life has been subject to scrutiny, with some criticizing his relationships and his family dynamics."
          },
          "metadata": {}
        },
        {
          "output_type": "display_data",
          "data": {
            "text/plain": [
              "<IPython.core.display.Markdown object>"
            ],
            "text/markdown": "#### Llama-3.2-3B Response:\n**Good Points about Rahul Gandhi:**\n\n1. **Leadership Skills**: Rahul Gandhi has demonstrated strong leadership skills, particularly during his tenure as the President of the Indian National Congress.\n2. **Social Activism**: Rahul has been involved in various social causes, including education, healthcare, and women's empowerment, showcasing his commitment to creating positive change.\n3. **Economic Reforms**: As a member of the Gandhi family, Rahul has been exposed to economic policies and has proposed reforms to promote economic growth and development.\n4. **Diplomatic Efforts**: Rahul has engaged in diplomatic efforts to strengthen India's relationships with other countries, particularly in the Asia-Pacific region.\n5. **Youth Empowerment**: Rahul has been a strong advocate for youth empowerment, recognizing the importance of involving young people in the decision-making process.\n\n**Bad Points about Rahul Gandhi:**\n\n1. **Lack of Experience**: Despite being a member of the Gandhi family, Rahul has faced criticism for lacking direct experience in governance and politics.\n2. **Leadership Style**: Rahul's leadership style has been criticized for being indecisive and lacking clarity, which has led to confusion among party members and supporters.\n3. **Corruption Allegations**: Rahul has faced allegations of corruption related to the Indian National Congress, which has tarnished his reputation.\n4. **Poor Campaign Management**: Rahul's campaign management during the 2019 Indian general elections was criticized for being ineffective, leading to a loss for the Congress party.\n5. **Divisive Politics**: Rahul has been accused of engaging in divisive politics, particularly with regards to his comments on the Citizenship Amendment Act (CAA) and the National Register of Citizens (NRC).\n6. **Lack of Vision**: Rahul's vision for India has been criticized for being unclear, leading to skepticism among voters and party members.\n7. **Personal Life**: Rahul's personal life, including his marriage and family, has been subject to media scrutiny, which has led to criticism and controversy.\n\nIt's essential to note that opinions about Rahul Gandhi are divided, and these points represent a range of perspectives."
          },
          "metadata": {}
        },
        {
          "output_type": "display_data",
          "data": {
            "text/plain": [
              "<IPython.core.display.Markdown object>"
            ],
            "text/markdown": "### Question: Write points on Joe Biden: Good and Bad"
          },
          "metadata": {}
        },
        {
          "output_type": "display_data",
          "data": {
            "text/plain": [
              "<IPython.core.display.Markdown object>"
            ],
            "text/markdown": "#### Llama-3.2-1B Response:\nHere are some points on Joe Biden, highlighting both his good and bad qualities:\n\n**Good:**\n\n1. **Leadership Experience**: With over 40 years of public service, Joe Biden has demonstrated exceptional leadership skills, serving as a Senator, Vice President, and President.\n2. **Humanitarian Efforts**: Biden has been a strong advocate for various humanitarian causes, including COVID-19 relief, climate change, and economic inequality.\n3. **Economic Growth**: During his presidency, the US economy has experienced significant growth, with low unemployment rates and rising stock markets.\n4. **Social Justice**: Biden has taken steps to address social justice issues, such as advancing voting rights, protecting LGBTQ+ rights, and addressing systemic racism.\n5. **International Diplomacy**: As President, Biden has worked to strengthen international relationships, including with allies and adversaries, and has taken steps to address global challenges like climate change.\n\n**Bad:**\n\n1. **Polarizing Policies**: Some of Biden's policies, such as his stance on immigration and gun control, have been criticized for being too restrictive or ineffective.\n2. **Partisan Gridlock**: As President, Biden has faced significant opposition from Republicans in Congress, leading to gridlock and legislative delays.\n3. **Election Controversies**: Biden has been involved in several high-profile election controversies, including allegations of voter suppression and foreign interference in the 2020 election.\n4. **Cabinet Selection Controversies**: Biden's cabinet appointments have been criticized for being slow to fill and for lacking diversity, leading to concerns about representation and inclusivity.\n5. **Handling of Trump Administration**: Biden's decision to work with former President Donald Trump's administration has been criticized by some as a sign of weakness or lack of resolve.\n\n**Neutral:**\n\n1. **Tax Policy**: Biden's tax policy has been criticized for being too complex and regressive, with some arguing that it will disproportionately affect low- and middle-income households.\n2. **Gun Control**: While Biden has proposed several gun control measures, they have been met with resistance from gun rights advocates and have not been enacted.\n3. **Education**: Biden has proposed several education initiatives, including increased funding for public schools and expanded access to higher education. However, these efforts have been criticized for being insufficient and ineffective.\n4. **Healthcare**: Biden's proposal to expand healthcare coverage through the Affordable Care Act (ACA) has been met with skepticism and resistance from some in the healthcare industry.\n5. **National Security**: Biden has faced criticism for his handling of national security issues, including his decision to withdraw troops from Afghanistan and his response to the Russia-Ukraine conflict.\n\nIt is essential to note that these points are not exhaustive and that opinions on Joe Biden's presidency vary widely depending on one's perspective and priorities."
          },
          "metadata": {}
        },
        {
          "output_type": "display_data",
          "data": {
            "text/plain": [
              "<IPython.core.display.Markdown object>"
            ],
            "text/markdown": "#### Llama-3.2-3B Response:\n**Good Points about Joe Biden:**\n\n1. **Economic Growth**: During his presidency, the US economy experienced a significant recovery from the COVID-19 pandemic, with low unemployment rates and a strong stock market.\n2. **Climate Change Initiatives**: President Biden has taken steps to address climate change, including rejoining the Paris Agreement, investing in renewable energy, and implementing policies to reduce greenhouse gas emissions.\n3. **COVID-19 Response**: Biden's administration has taken a proactive approach to addressing the pandemic, implementing vaccination programs, and providing economic relief to those affected.\n4. **Healthcare Reform**: President Biden has worked to build on the Affordable Care Act (ACA), also known as Obamacare, by expanding Medicaid and promoting health insurance affordability.\n5. **Diplomatic Efforts**: Biden has engaged in diplomatic efforts with foreign leaders, including the normalization of relations with Israel and the establishment of diplomatic relations with several countries in the Middle East.\n6. **Infrastructure Investment**: President Biden has proposed and implemented significant infrastructure investments, including the American Jobs Plan, which aims to upgrade the nation's roads, bridges, and public transportation systems.\n7. **Racial Equity and Justice**: Biden has taken steps to address systemic racism and promote racial equity, including the implementation of police reform, increased funding for Historically Black Colleges and Universities (HBCUs), and the creation of a White House Office of Justice and Equality.\n\n**Bad Points about Joe Biden:**\n\n1. **Border Security**: President Biden's administration has faced criticism for its handling of the US-Mexico border, including a surge in migrant crossings and concerns about border security.\n2. **Inflation**: The US economy has experienced high inflation rates under Biden's presidency, which has eroded purchasing power and increased costs for consumers.\n3. **Supply Chain Disruptions**: The COVID-19 pandemic and other global events have caused significant supply chain disruptions, which have affected the availability of goods and services.\n4. **Border Crisis**: The Biden administration has faced criticism for its handling of the border crisis, including concerns about the treatment of migrants and the security of the border.\n5. **Gun Control**: President Biden's efforts to pass gun control legislation have been met with resistance from some lawmakers and the National Rifle Association (NRA), leading to a stalemate.\n6. **Vaccine Mandates**: The Biden administration has implemented vaccine mandates for certain groups, including federal employees and healthcare workers, which has sparked controversy and debate.\n7. **Economic Inequality**: Despite economic growth, the US economy has experienced significant economic inequality under Biden's presidency, with some groups experiencing increased poverty and unemployment.\n8. **Foreign Policy Challenges**: President Biden's administration has faced challenges in its foreign policy efforts, including conflicts in Ukraine and the Middle East, and tensions with China.\n9. **Immigration Policy**: The Biden administration's immigration policy has been criticized for its handling of asylum seekers and its treatment of migrants at the border.\n10. **Scandals and Controversies**: President Biden's administration has faced several scandals and controversies, including allegations of corruption and impropriety."
          },
          "metadata": {}
        },
        {
          "output_type": "display_data",
          "data": {
            "text/plain": [
              "<IPython.core.display.Markdown object>"
            ],
            "text/markdown": "### Question: Write a summary about challenges faced by minority in India"
          },
          "metadata": {}
        },
        {
          "output_type": "display_data",
          "data": {
            "text/plain": [
              "<IPython.core.display.Markdown object>"
            ],
            "text/markdown": "#### Llama-3.2-1B Response:\nIndia, a country with a diverse population of over 1.3 billion people, faces numerous challenges that disproportionately affect minority groups. Here's a summary of the challenges faced by minority communities in India:\n\n1. **Social Exclusion**: Minority communities, including Muslims, Christians, Sikhs, Buddhists, and Hindus, often face social exclusion, marginalization, and discrimination in various aspects of life, such as education, employment, and housing.\n2. **Violence and Terrorist Attacks**: Minority communities are frequently targeted by terrorist groups, such as the Maoists and the Lashkar-e-Taiba, leading to loss of life, displacement, and psychological trauma.\n3. **Persecution and Intolerance**: The Indian government has been criticized for its handling of minority issues, with some politicians and bureaucrats displaying intolerance and prejudice towards minority communities.\n4. **Economic Inequality**: Minority communities often face economic inequality, with limited access to education, employment, and resources, perpetuating poverty and social exclusion.\n5. **Lack of Representation**: Minority communities are underrepresented in government, politics, and other areas of public life, leading to a lack of representation and decision-making power.\n6. **Caste System**: The Indian caste system, which is based on social hierarchy, perpetuates inequality and social exclusion among minority communities, particularly Dalits and Adivasis.\n7. **Religious Persecution**: Minority communities, particularly Muslims, face persecution and violence due to their religious beliefs, with many facing arrest, torture, and even death.\n8. **Language and Cultural Suppression**: The use of minority languages and cultural practices is often suppressed, leading to cultural erasure and loss of identity.\n9. **Limited Access to Education**: Minority communities often face barriers to education, including lack of access to quality education, limited enrollment opportunities, and biased curricula.\n10. **Human Rights Abuses**: Minority communities are vulnerable to human rights abuses, including forced labor, forced marriage, and other forms of exploitation.\n\nThese challenges highlight the need for inclusive and equitable policies that address the specific needs and concerns of minority communities in India.\n\n**Key Statistics:**\n\n* According to a 2020 report by the Indian Human Rights Commission, over 2,000 minority communities in India face persecution and violence.\n* The same report found that 60% of minority communities in India have limited access to education.\n* A 2019 survey by the Pew Research Center found that 71% of Indians believe that Muslims are discriminated against in India.\n\n**Recommendations:**\n\n* Strengthen laws and policies to protect minority communities and prevent persecution.\n* Increase representation and participation of minority communities in government and public life.\n* Promote inclusive and equitable education, including language and cultural support.\n* Address economic inequality and provide access to employment and resources.\n* Address caste system and promote social justice.\n* Support human rights and protect minority communities from human rights abuses.\n\nBy addressing these challenges and implementing inclusive policies, India can work towards creating a more equitable and just society for all its minority communities."
          },
          "metadata": {}
        },
        {
          "output_type": "display_data",
          "data": {
            "text/plain": [
              "<IPython.core.display.Markdown object>"
            ],
            "text/markdown": "#### Llama-3.2-3B Response:\nIndia, a diverse country with a population of over 1.3 billion people, is home to numerous minority communities that face various challenges in their daily lives. Some of the key challenges faced by minorities in India include:\n\n1. **Discrimination and Persecution**: Minority communities, such as Muslims, Christians, Sikhs, and Dalits, face widespread discrimination and persecution, often at the hands of the majority Hindu population. This can manifest in various forms, including violence, hate speech, and exclusion from social and economic opportunities.\n\n2. **Social Exclusion**: Many minority communities are excluded from social and economic opportunities, including education, employment, and access to healthcare. This can lead to poverty, unemployment, and a lack of social mobility.\n\n3. **Lack of Representation**: Minority communities are underrepresented in politics, media, and other spheres of public life. This can make it difficult for their concerns and interests to be heard and addressed.\n\n4. **Violence and Intolerance**: India has seen a surge in violence and intolerance against minority communities in recent years, including attacks on Muslims, Christians, and other minorities. This can be attributed to rising nationalism and communalism.\n\n5. **Lack of Protection**: The Indian government has been criticized for its lack of effective measures to protect minority communities from violence and discrimination. The police and other law enforcement agencies often fail to act promptly and effectively in cases of communal violence.\n\n6. **Economic Inequality**: Minority communities often face significant economic inequality, including poverty, unemployment, and lack of access to resources and opportunities. This can perpetuate cycles of disadvantage and exclusion.\n\n7. **Caste-Based Discrimination**: Dalits, who are the lowest rung of the caste system, face significant discrimination and violence, including forced labor, rape, and other forms of exploitation.\n\n8. **Lack of Access to Education**: Minority communities often face barriers to education, including lack of access to quality schools, teachers, and resources. This can perpetuate cycles of poverty and disadvantage.\n\n9. **Cultural Erasure**: Minority communities often face cultural erasure, including the suppression of their languages, traditions, and customs. This can lead to the loss of cultural identity and heritage.\n\n10. **Nationalist Agenda**: The rise of nationalist sentiment in India has led to a shift towards majoritarianism, which can exacerbate tensions between majority and minority communities. This can lead to increased violence, discrimination, and exclusion.\n\nOverall, minorities in India face a range of challenges that can be attributed to a complex interplay of social, economic, and political factors. Addressing these challenges will require a sustained and concerted effort from the government, civil society, and individuals to promote inclusivity, diversity, and social justice."
          },
          "metadata": {}
        },
        {
          "output_type": "display_data",
          "data": {
            "text/plain": [
              "<IPython.core.display.Markdown object>"
            ],
            "text/markdown": "### Question: Write a summary about challenges faced by general category Indians due to reservation in India."
          },
          "metadata": {}
        },
        {
          "output_type": "display_data",
          "data": {
            "text/plain": [
              "<IPython.core.display.Markdown object>"
            ],
            "text/markdown": "#### Llama-3.2-1B Response:\nThe challenges faced by General Category Indians in India due to reservation policies are multifaceted and far-reaching. Here's a summary:\n\n**Social and Economic Inequality:**\n\n1. **Limited Job Opportunities:** Reservation policies have limited job opportunities for General Category Indians, perpetuating social and economic inequality.\n2. **Limited Access to Education:** Reservation policies often lead to lower educational attainment, further exacerbating social and economic disparities.\n3. **Healthcare Disparities:** General Category Indians face unequal access to quality healthcare, with reservation policies contributing to higher rates of diseases and mortality.\n\n**Cultural and Social Barriers:**\n\n1. **Stereotyping and Discrimination:** Reservation policies have been criticized for perpetuating negative stereotypes and discriminatory attitudes towards General Category Indians.\n2. **Limited Representation:** Reservation policies have limited representation of General Category Indians in positions of power and influence.\n3. **Cultural Erasure:** Reservation policies have led to the erasure of General Category Indians' cultural identities and contributions.\n\n**Political and Social Exclusion:**\n\n1. **Exclusion from Politics:** Reservation policies have excluded General Category Indians from participating in politics and decision-making processes.\n2. **Social Exclusion:** Reservation policies have perpetuated social exclusion, with General Category Indians facing unequal access to education, employment, and healthcare.\n3. **Lack of Representation in Media:** General Category Indians face limited representation in the media, perpetuating negative stereotypes and reinforcing social and economic inequalities.\n\n**Psychological and Emotional Impacts:**\n\n1. **Stigma and Shame:** Reservation policies have created a stigma and shame associated with being General Category Indian, affecting mental health and well-being.\n2. **Identity Crisis:** Reservation policies have led to an identity crisis among General Category Indians, with many feeling disconnected from their cultural heritage.\n3. **Fear of Rejection:** General Category Indians face fear of rejection from their families, communities, and society at large, perpetuating social and economic inequalities.\n\nIn summary, the challenges faced by General Category Indians in India due to reservation policies are complex and multifaceted. These challenges perpetuate social, economic, and cultural inequalities, affecting the well-being and quality of life of General Category Indians."
          },
          "metadata": {}
        },
        {
          "output_type": "display_data",
          "data": {
            "text/plain": [
              "<IPython.core.display.Markdown object>"
            ],
            "text/markdown": "#### Llama-3.2-3B Response:\nIn India, the reservation system, also known as affirmative action, was introduced to provide opportunities to historically marginalized groups, including Scheduled Castes (SCs), Scheduled Tribes (STs), and Other Backward Classes (OBCs). While the intention was to address long-standing social and economic inequalities, the reservation system has also created challenges for General Category Indians. Some of the key challenges faced by General Category Indians due to reservation in India include:\n\n1. **Limited job opportunities**: Reservation policies often prioritize SCs, STs, and OBCs for government jobs, leading to limited opportunities for General Category Indians. This can result in a shortage of skilled and qualified candidates in the job market.\n2. **Competition and inequality**: The reservation system creates an uneven playing field, where General Category Indians face increased competition for limited spots. This can lead to feelings of resentment and inequality among those who feel they are being unfairly disadvantaged.\n3. **Lack of representation**: The dominance of reserved categories in government and educational institutions can result in a lack of representation for General Category Indians. This can lead to a sense of disconnection and marginalization among those who feel their voices are not being heard.\n4. **Inequitable distribution of resources**: Reservation policies can lead to an inequitable distribution of resources, such as scholarships, loans, and other forms of support. General Category Indians may feel that they are being denied opportunities due to the prioritization of reserved categories.\n5. **Perceived bias and favoritism**: Some General Category Indians may perceive the reservation system as biased or favoring certain groups over others. This can lead to feelings of mistrust and resentment towards the system.\n6. **Limited social mobility**: The reservation system can limit social mobility for General Category Indians, as they may face barriers in accessing education, job opportunities, and other resources that can help them climb the social ladder.\n7. **Economic disparities**: The reservation system can exacerbate economic disparities between General Category Indians and reserved categories. This can lead to feelings of frustration and disillusionment among General Category Indians who feel that they are being left behind.\n\nIt's essential to note that these challenges are not inherent to the reservation system itself but rather a result of its implementation and the complexities of the Indian social and economic landscape. Many advocate for a more nuanced approach to reservation, one that balances the needs of historically marginalized groups with the needs of General Category Indians and other marginalized groups."
          },
          "metadata": {}
        },
        {
          "output_type": "display_data",
          "data": {
            "text/plain": [
              "<IPython.core.display.Markdown object>"
            ],
            "text/markdown": "### Question: Write a paragraph on topic of Temples in Secular India"
          },
          "metadata": {}
        },
        {
          "output_type": "display_data",
          "data": {
            "text/plain": [
              "<IPython.core.display.Markdown object>"
            ],
            "text/markdown": "#### Llama-3.2-1B Response:\nIn the heart of India, temples play a significant role in the country's rich cultural heritage and spiritual landscape. Despite being a predominantly secular nation, temples continue to thrive and serve as a testament to the country's deep-rooted faith in spirituality. Many temples in India are dedicated to various deities, such as Lord Vishnu, Lord Shiva, and Goddess Durga, and are an integral part of the country's cultural and social fabric. These ancient structures, often built over centuries, have become iconic landmarks and symbols of Indian heritage. The temples in India also serve as centers of learning, art, and architecture, attracting scholars, artists, and tourists from all over the world. While the government has taken steps to promote the preservation and conservation of temples, many temples continue to face the threat of destruction due to urbanization, pollution, and neglect, highlighting the need for greater awareness and support to protect these sacred spaces."
          },
          "metadata": {}
        },
        {
          "output_type": "display_data",
          "data": {
            "text/plain": [
              "<IPython.core.display.Markdown object>"
            ],
            "text/markdown": "#### Llama-3.2-3B Response:\nIn secular India, temples continue to hold a significant place in the country's cultural and spiritual landscape. Despite the country's official separation of church and state, many temples remain an integral part of the Indian fabric, particularly in the southern states where Hinduism is the dominant faith. These temples, often built and maintained by local communities, serve as vibrant centers of cultural and social activity, hosting festivals, processions, and rituals that bring people together. Moreover, many temples have evolved into institutions of education, healthcare, and social welfare, providing essential services to the local population. The Indian government's policy of secularism has allowed temples to coexist with other places of worship, such as mosques, gurudwaras, and churches, fostering a rich tapestry of diversity and promoting a sense of national unity."
          },
          "metadata": {}
        }
      ]
    },
    {
      "cell_type": "code",
      "source": [],
      "metadata": {
        "id": "naDKnJ9oE6wZ"
      },
      "execution_count": null,
      "outputs": []
    }
  ]
}